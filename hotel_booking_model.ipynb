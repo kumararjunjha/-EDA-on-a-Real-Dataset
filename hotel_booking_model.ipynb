{
 "cells": [
  {
   "cell_type": "code",
   "execution_count": 1,
   "id": "11cbf2a0-8629-4307-922d-b42a623e1cd0",
   "metadata": {},
   "outputs": [],
   "source": [
    "import numpy as np\n",
    "import pandas as pd\n",
    "import matplotlib.pyplot as plt\n",
    "import seaborn as sns\n",
    "import plotly.graph_objects as go\n",
    "import plotly.express as px\n",
    "\n",
    "import warnings\n",
    "warnings.filterwarnings(\"ignore\")"
   ]
  },
  {
   "cell_type": "code",
   "execution_count": 2,
   "id": "8a49289f-ca34-490a-ad40-6e63dbe654f5",
   "metadata": {},
   "outputs": [],
   "source": [
    "#getting dataset basic informations\n",
    "\n",
    "df= pd.read_csv(\"hotels.csv\")"
   ]
  },
  {
   "cell_type": "code",
   "execution_count": 9,
   "id": "a9c64693-641b-4f6b-8edf-4e4215bad3eb",
   "metadata": {},
   "outputs": [
    {
     "name": "stdout",
     "output_type": "stream",
     "text": [
      "This is the first 5 rows of dataset =                                      Hotel name continent_name city_name  \\\n",
      "0                    Shangri-La Hotel, Beijing           Asia   Beijing   \n",
      "1            InterContinental Beijing Sanlitun           Asia   Beijing   \n",
      "2         Holiday Inn Express Beijing Yizhuang           Asia   Beijing   \n",
      "3  Shangri-La China World Summit Wing, Beijing           Asia   Beijing   \n",
      "4                          Kerry Hotel Beijing           Asia   Beijing   \n",
      "\n",
      "  country_name       Price  Rating  reviews count      info.1          info.2  \\\n",
      "0        China  156.666667     5.0           7603  Free Wifi    Free parking    \n",
      "1        China         NaN     5.0           1743  Free Wifi            Pool    \n",
      "2        China   68.000000     5.0            548  Free Wifi    Free parking    \n",
      "3        China         NaN     5.0           2318  Free Wifi            Pool    \n",
      "4        China         NaN     5.0           5756  Free Wifi            Pool    \n",
      "\n",
      "           info.3                 info.4             info.5 info.6 info.7  \n",
      "0   Special offer   Visit hotel website                 NaN    NaN    NaN  \n",
      "1             NaN                    NaN  Free cancellation    NaN    NaN  \n",
      "2             NaN                    NaN                NaN    NaN    NaN  \n",
      "3   Special offer   Visit hotel website                 NaN    NaN    NaN  \n",
      "4   Special offer   Visit hotel website                 NaN    NaN    NaN  \n",
      "\n",
      "These are the columns names of the dataset = Index(['Hotel name', 'continent_name', 'city_name', 'country_name', 'Price',\n",
      "       'Rating', 'reviews count', 'info.1', 'info.2', 'info.3', 'info.4',\n",
      "       'info.5', 'info.6', 'info.7'],\n",
      "      dtype='object')\n",
      "\n",
      "<class 'pandas.core.frame.DataFrame'>\n",
      "RangeIndex: 59707 entries, 0 to 59706\n",
      "Data columns (total 14 columns):\n",
      " #   Column          Non-Null Count  Dtype  \n",
      "---  ------          --------------  -----  \n",
      " 0   Hotel name      59707 non-null  object \n",
      " 1   continent_name  59707 non-null  object \n",
      " 2   city_name       59707 non-null  object \n",
      " 3   country_name    59707 non-null  object \n",
      " 4   Price           13042 non-null  float64\n",
      " 5   Rating          59707 non-null  float64\n",
      " 6   reviews count   59707 non-null  int64  \n",
      " 7   info.1          56302 non-null  object \n",
      " 8   info.2          51204 non-null  object \n",
      " 9   info.3          4525 non-null   object \n",
      " 10  info.4          1749 non-null   object \n",
      " 11  info.5          14200 non-null  object \n",
      " 12  info.6          8385 non-null   object \n",
      " 13  info.7          4192 non-null   object \n",
      "dtypes: float64(2), int64(1), object(11)\n",
      "memory usage: 6.4+ MB\n",
      "These are some informations about dataset = None\n"
     ]
    }
   ],
   "source": [
    "print(\"This is the first 5 rows of dataset = \", df.head())\n",
    "print()\n",
    "print(\"These are the columns names of the dataset =\", df.columns)\n",
    "print()\n",
    "print(\"These are some informations about dataset =\", df.info())"
   ]
  },
  {
   "cell_type": "code",
   "execution_count": 10,
   "id": "9be7163c-e3e7-41e4-9bde-ed12f2c9c52b",
   "metadata": {},
   "outputs": [
    {
     "data": {
      "text/plain": [
       "Hotel name            0\n",
       "continent_name        0\n",
       "city_name             0\n",
       "country_name          0\n",
       "Price             46665\n",
       "Rating                0\n",
       "reviews count         0\n",
       "info.1             3405\n",
       "info.2             8503\n",
       "info.3            55182\n",
       "info.4            57958\n",
       "info.5            45507\n",
       "info.6            51322\n",
       "info.7            55515\n",
       "dtype: int64"
      ]
     },
     "execution_count": 10,
     "metadata": {},
     "output_type": "execute_result"
    }
   ],
   "source": [
    "df.isna().sum()"
   ]
  },
  {
   "cell_type": "code",
   "execution_count": 15,
   "id": "44ea012e-db77-4598-b0fb-cbdf34547d8e",
   "metadata": {},
   "outputs": [],
   "source": [
    "#lets fill null values with some values\n",
    "\n",
    "df.fillna(df.select_dtypes(include=['number']).median(), inplace=True)  # Fill missing numerical values\n",
    "df.fillna(df.mode().iloc[0], inplace=True)  # F"
   ]
  },
  {
   "cell_type": "code",
   "execution_count": 18,
   "id": "fc8eb96c-aef6-4f47-a728-def9d6f9a6a8",
   "metadata": {},
   "outputs": [
    {
     "data": {
      "text/plain": [
       "Hotel name        0\n",
       "continent_name    0\n",
       "city_name         0\n",
       "country_name      0\n",
       "Price             0\n",
       "Rating            0\n",
       "reviews count     0\n",
       "info.1            0\n",
       "info.2            0\n",
       "info.3            0\n",
       "info.4            0\n",
       "info.5            0\n",
       "info.6            0\n",
       "info.7            0\n",
       "dtype: int64"
      ]
     },
     "execution_count": 18,
     "metadata": {},
     "output_type": "execute_result"
    }
   ],
   "source": [
    "df.isna().sum()"
   ]
  },
  {
   "cell_type": "code",
   "execution_count": 20,
   "id": "817c2468-db36-4304-9433-d1bc6fb559cf",
   "metadata": {},
   "outputs": [
    {
     "data": {
      "text/plain": [
       "Index(['Hotel name', 'continent_name', 'city_name', 'country_name', 'Price',\n",
       "       'Rating', 'reviews count', 'info.1', 'info.2', 'info.3', 'info.4',\n",
       "       'info.5', 'info.6', 'info.7'],\n",
       "      dtype='object')"
      ]
     },
     "execution_count": 20,
     "metadata": {},
     "output_type": "execute_result"
    }
   ],
   "source": [
    "df.columns"
   ]
  },
  {
   "cell_type": "code",
   "execution_count": 46,
   "id": "2ba48b58-d7f2-4385-9c56-c01c2e4b7a11",
   "metadata": {},
   "outputs": [],
   "source": [
    "\n",
    "#Data cleaning process\n",
    "\n",
    "from sklearn.preprocessing import LabelEncoder\n",
    "\n",
    "encoder = LabelEncoder()\n",
    "categorical_cols = [\"Hotel name\", \"continent_name\", \"city_name\", \"info.1\", \"info.2\", \"info.3\", \"info.4\", \"info.5\", ]\n",
    " \n",
    "for col in categorical_cols:\n",
    "    df[col] = encoder.fit_transform(df[col])\n"
   ]
  },
  {
   "cell_type": "code",
   "execution_count": 47,
   "id": "14c671d6-4d42-4728-b6be-a7a40da4d2b6",
   "metadata": {},
   "outputs": [],
   "source": [
    "df[\"country_name\"] = encoder.fit_transform(df[\"country_name\"])"
   ]
  },
  {
   "cell_type": "code",
   "execution_count": 48,
   "id": "a3f1f335-f245-4ae6-8351-7a3e5ca7b4c7",
   "metadata": {},
   "outputs": [
    {
     "name": "stdout",
     "output_type": "stream",
     "text": [
      "<class 'pandas.core.frame.DataFrame'>\n",
      "RangeIndex: 59707 entries, 0 to 59706\n",
      "Data columns (total 14 columns):\n",
      " #   Column          Non-Null Count  Dtype  \n",
      "---  ------          --------------  -----  \n",
      " 0   Hotel name      59707 non-null  int64  \n",
      " 1   continent_name  59707 non-null  int64  \n",
      " 2   city_name       59707 non-null  int64  \n",
      " 3   country_name    59707 non-null  int64  \n",
      " 4   Price           59707 non-null  float64\n",
      " 5   Rating          59707 non-null  float64\n",
      " 6   reviews count   59707 non-null  int64  \n",
      " 7   info.1          59707 non-null  int64  \n",
      " 8   info.2          59707 non-null  int64  \n",
      " 9   info.3          59707 non-null  int64  \n",
      " 10  info.4          59707 non-null  int64  \n",
      " 11  info.5          59707 non-null  int64  \n",
      " 12  info.6          59707 non-null  int32  \n",
      " 13  info.7          59707 non-null  int32  \n",
      "dtypes: float64(2), int32(2), int64(10)\n",
      "memory usage: 5.9 MB\n"
     ]
    }
   ],
   "source": [
    "df.info()"
   ]
  },
  {
   "cell_type": "code",
   "execution_count": 49,
   "id": "4281d92e-9050-4faf-a0da-0eb860a5257d",
   "metadata": {},
   "outputs": [],
   "source": [
    "X = df.drop(columns=[\"continent_name\"])  # Features\n",
    "y = df[\"continent_name\"]  # Target variable\n"
   ]
  },
  {
   "cell_type": "code",
   "execution_count": 50,
   "id": "47afea2d-8927-4883-abcb-52c1e462ea92",
   "metadata": {},
   "outputs": [],
   "source": [
    "from sklearn.model_selection import train_test_split\n"
   ]
  },
  {
   "cell_type": "code",
   "execution_count": 51,
   "id": "4f8a0569-919b-43be-a1c3-0f54a04745ca",
   "metadata": {},
   "outputs": [],
   "source": [
    "X_train, X_test, y_train, y_test= train_test_split(X, y, test_size= 0.25, random_state=42)"
   ]
  },
  {
   "cell_type": "code",
   "execution_count": 52,
   "id": "ff98fc04-edfc-4d06-b8ac-b68021a070c1",
   "metadata": {},
   "outputs": [
    {
     "name": "stdout",
     "output_type": "stream",
     "text": [
      "Accuracy: 0.647953373082334\n",
      "              precision    recall  f1-score   support\n",
      "\n",
      "           0       0.00      0.00      0.00       686\n",
      "           1       0.67      0.07      0.12      4126\n",
      "           2       0.65      0.99      0.78      9495\n",
      "           3       0.00      0.00      0.00       620\n",
      "\n",
      "    accuracy                           0.65     14927\n",
      "   macro avg       0.33      0.26      0.23     14927\n",
      "weighted avg       0.60      0.65      0.53     14927\n",
      "\n"
     ]
    }
   ],
   "source": [
    "# Checking model accuracy & classification report.\n",
    "from sklearn.linear_model import LogisticRegression\n",
    "from sklearn.metrics import accuracy_score, classification_report\n",
    "\n",
    "model = LogisticRegression()\n",
    "model.fit(X_train, y_train)  # Train the model\n",
    "y_pred = model.predict(X_test)\n",
    "\n",
    "print(\"Accuracy:\", accuracy_score(y_test, y_pred))\n",
    "print(classification_report(y_test, y_pred))\n"
   ]
  },
  {
   "cell_type": "code",
   "execution_count": 53,
   "id": "7bf241e5-efed-4840-a343-b09ec6a2890a",
   "metadata": {},
   "outputs": [
    {
     "name": "stdout",
     "output_type": "stream",
     "text": [
      "Random Forest Accuracy: 0.9462718563676559\n"
     ]
    }
   ],
   "source": [
    " #Compare accuracy with Logistic Regression!\n",
    "from sklearn.ensemble import RandomForestClassifier\n",
    "\n",
    "rf_model = RandomForestClassifier(n_estimators=100, random_state=42)\n",
    "rf_model.fit(X_train, y_train)\n",
    "\n",
    "y_pred_rf = rf_model.predict(X_test)\n",
    "\n",
    "print(\"Random Forest Accuracy:\", accuracy_score(y_test, y_pred_rf))\n"
   ]
  },
  {
   "cell_type": "code",
   "execution_count": 56,
   "id": "70f198eb-37cb-44ab-8b75-3f3d83234e5e",
   "metadata": {},
   "outputs": [
    {
     "data": {
      "image/png": "[encoded data removed]",
      "text/plain": [
       "<Figure size 640x480 with 2 Axes>"
      ]
     },
     "metadata": {},
     "output_type": "display_data"
    }
   ],
   "source": [
    " #Plotting a confusion matrix to see correct vs incorrect predictions:\n",
    "from sklearn.metrics import confusion_matrix\n",
    "cm = confusion_matrix(y_test, y_pred_rf)\n",
    "sns.heatmap(cm, annot=True, fmt=\"d\", cmap=\"Blues\")\n",
    "plt.xlabel(\"Predicted\")\n",
    "plt.ylabel(\"Actual\")\n",
    "plt.title(\"Confusion Matrix\")\n",
    "plt.show()\n",
    "# let's visualize how well our model performed!"
   ]
  },
  {
   "cell_type": "code",
   "execution_count": 57,
   "id": "5dd8fb27-15bd-41f5-9e7c-e1f3eff92229",
   "metadata": {},
   "outputs": [
    {
     "data": {
      "text/plain": [
       "['hotel_booking_model.pkl']"
      ]
     },
     "execution_count": 57,
     "metadata": {},
     "output_type": "execute_result"
    }
   ],
   "source": [
    "import joblib\n",
    "joblib.dump(rf_model, \"hotel_booking_model.pkl\")  # Save model\n"
   ]
  },
  {
   "cell_type": "code",
   "execution_count": null,
   "id": "92822b95-0dc7-4b13-a48a-cfed786827a6",
   "metadata": {},
   "outputs": [],
   "source": [
    "#we can aslso load it using joblib.load(\"hotel_booking_model.pkl\")."
   ]
  }
 ],
 "metadata": {
  "kernelspec": {
   "display_name": "Python 3 (ipykernel)",
   "language": "python",
   "name": "python3"
  },
  "language_info": {
   "codemirror_mode": {
    "name": "ipython",
    "version": 3
   },
   "file_extension": ".py",
   "mimetype": "text/x-python",
   "name": "python",
   "nbconvert_exporter": "python",
   "pygments_lexer": "ipython3",
   "version": "3.12.7"
  }
 },
 "nbformat": 4,
 "nbformat_minor": 5
}
